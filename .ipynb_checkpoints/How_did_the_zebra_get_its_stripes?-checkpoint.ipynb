{
 "cells": [
  {
   "cell_type": "markdown",
   "metadata": {},
   "source": [
    "# How did the zebra get its stripes?\n",
    "\n",
    "## Daniel Skinner\n",
    "\n",
    "### School of Mathematics, University of East Anglia"
   ]
  },
  {
   "cell_type": "code",
   "execution_count": 260,
   "metadata": {},
   "outputs": [],
   "source": [
    "import numpy as np\n",
    "import matplotlib.pyplot as plt\n",
    "import matplotlib\n",
    "import math\n",
    "\n",
    "from __future__ import print_function\n",
    "from ipywidgets import interact, interactive, fixed, interact_manual\n",
    "import ipywidgets as widgets"
   ]
  },
  {
   "cell_type": "code",
   "execution_count": 261,
   "metadata": {},
   "outputs": [],
   "source": [
    "def solution(L,shape,solid,n=0,D=35,a=0.1):\n",
    "    k2p=(1/(2*D))*((D-2)+((D-2)**2 -(16*D))**(1/2))\n",
    "    k2m=(1/(2*D))*((D-2)-((D-2)**2 -(16*D))**(1/2))\n",
    "    mm=np.array(range(math.ceil(a*(k2m-(n**2 + np.pi**2)/L**2)), math.floor(a*(k2p-(n**2 + np.pi**2)/L**2) + 1)))\n",
    "    print(mm)\n",
    "    mt=mm[mm>-1.0]\n",
    "    ms=np.array([])\n",
    "    for i in mt:\n",
    "        if np.sqrt(i).is_integer():\n",
    "            ms=np.append(ms,np.array([np.sqrt(i)]))\n",
    "    print(mt,ms)\n",
    "            \n",
    "    for m in ms:\n",
    "        if shape == \"Cylinder\":\n",
    "            xx=np.arange(0,L,0.001*L)\n",
    "            ttheta=np.arange(0,2*np.pi + 0.001*np.pi,0.001*np.pi)\n",
    "            x,theta=np.meshgrid(xx,ttheta)\n",
    "            if m==0:\n",
    "                phi=np.cos(np.pi * x * n / L)*np.sin((m * theta) + (np.pi / 2))\n",
    "            else:\n",
    "                phi=np.cos(np.pi * x * n / L)*np.sin(m * theta)\n",
    "            if solid == True:\n",
    "                P=np.sign(phi)\n",
    "                P=np.where(P==0,1,P)\n",
    "            else:\n",
    "                P=phi\n",
    "            y=a*np.sin(theta)\n",
    "            z=a*np.cos(theta)\n",
    "        minn, maxx = P.min(), P.max()\n",
    "        norm = matplotlib.colors.Normalize(minn, maxx)\n",
    "        ma = plt.cm.ScalarMappable(norm=norm, cmap='RdBu')\n",
    "        ma.set_array([])\n",
    "        fcolors = ma.to_rgba(P)\n",
    "        plt.figure(figsize=(10,10))\n",
    "        ax=plt.axes(projection=\"3d\")\n",
    "        ax.plot_surface(x,y,z,facecolors=fcolors,cmap='RdBu')\n",
    "        plt.colorbar(ma)"
   ]
  },
  {
   "cell_type": "code",
   "execution_count": 262,
   "metadata": {
    "scrolled": false
   },
   "outputs": [
    {
     "data": {
      "application/vnd.jupyter.widget-view+json": {
       "model_id": "a034d89d8a9b4ac8adc7002033aee2d0",
       "version_major": 2,
       "version_minor": 0
      },
      "text/plain": [
       "interactive(children=(Dropdown(description='shape', options=('Cylinder',), value='Cylinder'), Dropdown(descrip…"
      ]
     },
     "metadata": {},
     "output_type": "display_data"
    },
    {
     "data": {
      "text/plain": [
       "<function __main__.solution(L, shape, solid, n=0, D=35, a=0.1)>"
      ]
     },
     "execution_count": 262,
     "metadata": {},
     "output_type": "execute_result"
    }
   ],
   "source": [
    "interact(solution,a=(0.01,25,0.1),D=(20,100,1),n=(0,10),L=fixed(25),shape=[\"Cylinder\"],solid=[(\"Solid\",True),(\"Fade\",False)])"
   ]
  },
  {
   "cell_type": "code",
   "execution_count": 263,
   "metadata": {},
   "outputs": [
    {
     "data": {
      "application/vnd.jupyter.widget-view+json": {
       "model_id": "cb1235b7efa3495d9c103032a1b03221",
       "version_major": 2,
       "version_minor": 0
      },
      "text/plain": [
       "interactive(children=(IntSlider(value=35, description='D', max=50, min=20), Output()), _dom_classes=('widget-i…"
      ]
     },
     "metadata": {},
     "output_type": "display_data"
    },
    {
     "data": {
      "text/plain": [
       "<function __main__.g(D)>"
      ]
     },
     "execution_count": 263,
     "metadata": {},
     "output_type": "execute_result"
    }
   ],
   "source": [
    "def g(D):\n",
    "    k2p=(1/(2*D))*((D-2)+((D-2)**2 -(16*D))**(1/2))\n",
    "    k2m=(1/(2*D))*((D-2)-((D-2)**2 -(16*D))**(1/2))\n",
    "    print(k2p)\n",
    "    print(k2m)\n",
    "    return k2p,k2m\n",
    "\n",
    "interact(g,D=(20,50,1))"
   ]
  },
  {
   "cell_type": "code",
   "execution_count": null,
   "metadata": {},
   "outputs": [],
   "source": []
  }
 ],
 "metadata": {
  "kernelspec": {
   "display_name": "Python 3",
   "language": "python",
   "name": "python3"
  },
  "language_info": {
   "codemirror_mode": {
    "name": "ipython",
    "version": 3
   },
   "file_extension": ".py",
   "mimetype": "text/x-python",
   "name": "python",
   "nbconvert_exporter": "python",
   "pygments_lexer": "ipython3",
   "version": "3.8.5"
  }
 },
 "nbformat": 4,
 "nbformat_minor": 4
}
