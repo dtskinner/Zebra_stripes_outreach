{
 "cells": [
  {
   "cell_type": "markdown",
   "metadata": {
    "deletable": false,
    "editable": false
   },
   "source": [
    "# How did the zebra get its stripes?\n",
    "\n",
    "## Daniel Skinner\n",
    "\n",
    "### School of Mathematics, University of East Anglia\n",
    "\n",
    "![title](img/marty.gif)"
   ]
  },
  {
   "cell_type": "markdown",
   "metadata": {
    "deletable": false,
    "editable": false
   },
   "source": [
    "## Using Jupyter Notebook!\n",
    "\n",
    "The first half of this document is for running all of the code needed in the activity. Please **do not edit** any of this code!! (You shouldn't be able to edit it anyway) The activity will start later in the document so you will need to scroll down to reach that.\n",
    "\n",
    "Before you can start using the interactive parts of this notebook you will need to **run the code below**. To do that open the 'Cell' menu in the toolbar above, then click on the 'Run all' button (See screenshot below if this isn't clear). You should see numbers appear on the left hand of each cell in between the square brackets.\n",
    "\n",
    "![title](img/Run_all.png)\n",
    "\n"
   ]
  },
  {
   "cell_type": "code",
   "execution_count": 1,
   "metadata": {
    "deletable": false,
    "editable": false
   },
   "outputs": [
    {
     "data": {
      "application/javascript": [
       "IPython.OutputArea.auto_scroll_threshold = 9999\n"
      ],
      "text/plain": [
       "<IPython.core.display.Javascript object>"
      ]
     },
     "metadata": {},
     "output_type": "display_data"
    }
   ],
   "source": [
    "%%javascript\n",
    "IPython.OutputArea.auto_scroll_threshold = 9999"
   ]
  },
  {
   "cell_type": "code",
   "execution_count": 2,
   "metadata": {
    "deletable": false,
    "editable": false
   },
   "outputs": [],
   "source": [
    "import numpy as np\n",
    "import matplotlib.pyplot as plt\n",
    "import matplotlib\n",
    "import math\n",
    "\n",
    "from __future__ import print_function\n",
    "from ipywidgets import interact, interactive, fixed, interact_manual\n",
    "import ipywidgets as widgets"
   ]
  },
  {
   "cell_type": "code",
   "execution_count": 3,
   "metadata": {
    "deletable": false,
    "editable": false
   },
   "outputs": [],
   "source": [
    "def solution(L,Block_type,Colors='binary',n=0,D=35,a=0.1,shift=0):\n",
    "    k2p=(1/(2*D))*((D-2)+((D-2)**2 -(16*D))**(1/2))\n",
    "    k2m=(1/(2*D))*((D-2)-((D-2)**2 -(16*D))**(1/2))\n",
    "    mm=np.array(range(math.ceil(a*(k2m-(n**2 + np.pi**2)/L**2)), math.floor(a*(k2p-(n**2 + np.pi**2)/L**2) + 1)))\n",
    "    mt=mm[mm>-1.0]\n",
    "    ms=np.array([])\n",
    "    for i in mt:\n",
    "        if np.sqrt(i).is_integer():\n",
    "            ms=np.append(ms,np.array([np.sqrt(i)]))\n",
    "    if len(ms)==1:\n",
    "        print('We have ',len(ms),' possible solution!')\n",
    "    else:\n",
    "        print('We have ',len(ms),' possible solutions!')\n",
    "    \n",
    "            \n",
    "    xx=np.arange(0,L,0.001*L)\n",
    "    ttheta=np.arange(0,2*np.pi + 0.001*np.pi,0.001*np.pi)\n",
    "    x,theta=np.meshgrid(xx,ttheta)\n",
    "    y=a*np.sin(theta)\n",
    "    z=a*np.cos(theta)\n",
    "    \n",
    "    for m in ms:\n",
    "        if m==0:\n",
    "            phi=np.cos(np.pi * x * n / L)*np.sin((m * theta) + (np.pi / 2))\n",
    "        else:\n",
    "            phi=np.cos(np.pi * x * n / L)*np.sin(m * theta)\n",
    "        if Block_type == 'Solid colors':\n",
    "            P=np.sign(phi+shift)\n",
    "            P=np.where(P==0,1,P)\n",
    "        else:\n",
    "            P=phi+shift\n",
    "        minn, maxx = -np.amax(abs(P)), np.amax(abs(P))\n",
    "        norm = matplotlib.colors.Normalize(minn, maxx)\n",
    "        ma = plt.cm.ScalarMappable(norm=norm, cmap=Colors)\n",
    "        ma.set_array([])\n",
    "        fcolors = ma.to_rgba(P)\n",
    "        plt.figure(figsize=(10,15))\n",
    "        ax=plt.axes(projection=\"3d\")\n",
    "        ax.set_ylim([-25, 25])\n",
    "        ax.set_zlim([-25, 25])\n",
    "        ax.plot_surface(x,y,z,facecolors=fcolors,cmap=Colors)"
   ]
  },
  {
   "cell_type": "markdown",
   "metadata": {
    "deletable": false,
    "editable": false
   },
   "source": [
    "# <span style=\"color:red\">~ Begining of activity ~</span> \n",
    "\n",
    "<span style=\"color:red\">You may edit from this point onwards!</span>\n"
   ]
  },
  {
   "cell_type": "markdown",
   "metadata": {
    "deletable": false,
    "editable": false
   },
   "source": [
    "## Animal Patterns\n",
    "\n",
    "As we have seen in the slides, the patterns that we find on animals can be expressed as solutions to the diffusiion problem,\n",
    "$$ u(t) = f(u,v) + \\nabla^{2} u, \\qquad v(t) = g(u,v) + D \\nabla^{2} v. $$\n",
    "Here $u$ and $v$ are the concentrations of the activator and inhibitor chemmicals in space and time, while $D$ is the ratio of the diffusivity of the two chemicals. The functions $f$ and $g$ have been pre-set in our code to\n",
    "$$ f(u,v) = u - 2v, \\qquad g(u,v) = 3u - 2v,$$\n",
    "so you don't need to worry about changing them. \n",
    "\n",
    "To find a steady solution to the simplified problem we must solve the ***Helmholtz Equation***,\n",
    "$$ \\nabla^{2} \\phi + k^{2} \\phi = 0, $$\n",
    "for some colour function $\\phi$, where $k$ is related to $D$, $f$ and $g$.\n",
    "\n",
    "This solution (on a cylinder with length coordinate $x$ and angular coordinate $\\theta$ turns out to be of the form\n",
    "$$ \\phi = \\cos \\left(\\frac{\\pi n x}{L}\\right) \\sin \\left( m \\theta + \\delta \\right)$$\n",
    "where $n$ can be chosen, $m$ depends on $k$ and $\\delta$ is an arbitraty constant we can fix for our convenience.\n",
    "\n",
    "To make our patterns we plot either the function $\\phi$ (for faded edges) or the sign of $\\phi$ (for block colors), potentially with some shift so that one color is more pronounced than the other.\n",
    "\n",
    "The sliders below will allow you to change the values of $a$ (the radius of the cylinder), $D$, $n$ and the colour shift. The length of the cylinder and the value of $\\delta$ have been fixed for you.\n"
   ]
  },
  {
   "cell_type": "markdown",
   "metadata": {
    "deletable": false,
    "editable": false
   },
   "source": [
    "##  Instructions\n",
    "\n",
    "Below you should find a series of drop-down menus and sliders which you may move around to change different parameters in the solution. Have a play with different parameter values and settings to see what kinds of patterns you can make! If you find something interesting, feel free to make a note of the values you have chosen so that we can share at the end.\n",
    "\n",
    "Remember that this is an idealised model, so the solutions may not have the full complex features we see in nature, however with a bit of imagination you can find similarities with different animals!\n",
    "\n",
    "Once you have chosen some values for the parameters, hit the 'Run Interact' button to plot the possible solutions!"
   ]
  },
  {
   "cell_type": "code",
   "execution_count": 5,
   "metadata": {
    "deletable": false,
    "editable": false,
    "scrolled": false
   },
   "outputs": [
    {
     "data": {
      "application/vnd.jupyter.widget-view+json": {
       "model_id": "5b3db7d9f9894f2799cd08668808404b",
       "version_major": 2,
       "version_minor": 0
      },
      "text/plain": [
       "interactive(children=(Dropdown(description='Block_type', options=('Solid colors', 'Faded edges'), value='Solid…"
      ]
     },
     "metadata": {},
     "output_type": "display_data"
    },
    {
     "data": {
      "text/plain": [
       "<function __main__.solution(L, Block_type, Colors='binary', n=0, D=35, a=0.1, shift=0)>"
      ]
     },
     "execution_count": 5,
     "metadata": {},
     "output_type": "execute_result"
    }
   ],
   "source": [
    "interact_manual(solution,a=(1,25,1),D=(20,100,1),n=(0,10),L=fixed(25),Block_type=[\"Solid colors\",\"Faded edges\"],Colors=[('Black/White','binary'),('Black/Orange','copper'),('Red/(White)/Black','RdGy'),('White/Orange','Oranges')],shift=(-1,1,0.1))"
   ]
  },
  {
   "cell_type": "markdown",
   "metadata": {
    "deletable": false,
    "editable": false
   },
   "source": [
    "### Challenge\n",
    "\n",
    "Can you mimic some of the real life patterns below? \n",
    "\n",
    "Let's start with a zebra!\n",
    "![title](img/Zebra.jpg)\n",
    "\n",
    "Now a tiger! Can you mimic the different patterns on the tiger's body and tail by changing the colors?\n",
    "![title](img/Tiger.jpeg)\n",
    "\n",
    "This snake has a pattern involving more than two colors. You will need to switch from solid colors to a fading color range to make this effect.\n",
    "![title](img/Snake.png)\n",
    "\n",
    "You may need to play with the 'shift' variable to find the right spots for this ladybird!\n",
    "![title](img/Ladybird.jpg)\n",
    "\n",
    "Servals are special in the sense that they exhibit both spots and stripes on different parts of their bodies! By only changing the variable 'a' can you create both parts?\n",
    "![title](img/Serval.jpg)\n",
    "\n"
   ]
  }
 ],
 "metadata": {
  "celltoolbar": "Edit Metadata",
  "kernelspec": {
   "display_name": "Python 3",
   "language": "python",
   "name": "python3"
  },
  "language_info": {
   "codemirror_mode": {
    "name": "ipython",
    "version": 3
   },
   "file_extension": ".py",
   "mimetype": "text/x-python",
   "name": "python",
   "nbconvert_exporter": "python",
   "pygments_lexer": "ipython3",
   "version": "3.8.5"
  }
 },
 "nbformat": 4,
 "nbformat_minor": 4
}
